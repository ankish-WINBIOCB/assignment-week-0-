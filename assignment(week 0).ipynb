{
 "cells": [
  {
   "cell_type": "markdown",
   "id": "5d7c6cf2-3a1c-447d-b754-04eaf1d966b1",
   "metadata": {},
   "source": [
    "Q-1) Data type and example."
   ]
  },
  {
   "cell_type": "code",
   "execution_count": null,
   "id": "8c67d5cf-f216-4fff-bfdd-78b5a45dbf3a",
   "metadata": {},
   "outputs": [],
   "source": [
    "#Q1- data type and example\n",
    "a = \"I am gonna become one of the best computational biologist\" #string\n",
    "b = [\"by the end of \", 2025] #list\n",
    "c = 100.00 #float\n",
    "d = (\"for\",\"sure\") #tuple\n",
    "\n",
    "\n",
    "\n"
   ]
  },
  {
   "cell_type": "markdown",
   "id": "85e77d0d-8aeb-4bc6-b4dd-0b3ee9dc1be0",
   "metadata": {},
   "source": [
    "Q-2) Data type and variable."
   ]
  },
  {
   "cell_type": "code",
   "execution_count": 3,
   "id": "23c8776d-6437-4dd2-97cd-90d21feb7beb",
   "metadata": {},
   "outputs": [
    {
     "name": "stdout",
     "output_type": "stream",
     "text": [
      "var1:  <class 'str'>\n",
      "var2:  <class 'str'>\n",
      "var3:  <class 'list'>\n",
      "var4:  <class 'int'>\n"
     ]
    }
   ],
   "source": [
    "\n",
    "#Q2- Data type of variable\n",
    "var1 = ''\n",
    "var2 = '[DS,ML,PYTHON]'\n",
    "var3 = ['DS','ML','PYTHON']\n",
    "var4 = 1\n",
    "\n",
    "print(\"var1: \",(type(var1)))\n",
    "print(\"var2: \",(type(var2)))\n",
    "print(\"var3: \",(type(var3)))\n",
    "print(\"var4: \",(type(var4)))\n"
   ]
  },
  {
   "cell_type": "markdown",
   "id": "f3df29c3-e921-4255-abba-666254154391",
   "metadata": {},
   "source": [
    "Q-3) Use of operators and examples.\n",
    "/ (division) --> divide the numbers.\n",
    "% (modulus) --> returns the remaining numbers by dividing the first number from the second.\n",
    "// (flooor division) --> divide the first number by the second and round the result down to the nearest whole number.\n",
    "** (exponentiation) --> it performs the exponential calculation."
   ]
  },
  {
   "cell_type": "code",
   "execution_count": 2,
   "id": "01e3117c-4396-4577-be6d-3bbde8be9f66",
   "metadata": {},
   "outputs": [
    {
     "name": "stdout",
     "output_type": "stream",
     "text": [
      "5.0\n"
     ]
    }
   ],
   "source": [
    "#division\n",
    "a = 10\n",
    "b = 2\n",
    "print(a/b)"
   ]
  },
  {
   "cell_type": "code",
   "execution_count": 4,
   "id": "82d514a7-a124-4bb9-bbca-e118c54d6df6",
   "metadata": {},
   "outputs": [
    {
     "name": "stdout",
     "output_type": "stream",
     "text": [
      "1\n"
     ]
    }
   ],
   "source": [
    "#modulus\n",
    "a = 9\n",
    "b = 2\n",
    "print(a%b)"
   ]
  },
  {
   "cell_type": "code",
   "execution_count": 5,
   "id": "00470020-c0f7-49ef-b75a-29652866e3d3",
   "metadata": {},
   "outputs": [
    {
     "name": "stdout",
     "output_type": "stream",
     "text": [
      "3\n"
     ]
    }
   ],
   "source": [
    "#floor division\n",
    "a = 15\n",
    "b = 4\n",
    "print(a//b)"
   ]
  },
  {
   "cell_type": "code",
   "execution_count": 6,
   "id": "7d43c263-48fc-422e-a2c3-f388e41491eb",
   "metadata": {},
   "outputs": [
    {
     "name": "stdout",
     "output_type": "stream",
     "text": [
      "32\n"
     ]
    }
   ],
   "source": [
    "#exponentiation\n",
    "a = 2\n",
    "b = 5\n",
    "print(a**b) #2*2*2*2*2"
   ]
  },
  {
   "cell_type": "markdown",
   "id": "3a4f76a1-5339-4fcb-aa93-403af3205c5b",
   "metadata": {},
   "source": [
    "Q-4. Create a list of length 10 of your choice containing multiple types of data. Using for loop print the\n",
    "element and its data type."
   ]
  },
  {
   "cell_type": "code",
   "execution_count": 8,
   "id": "6ae3522e-7711-4964-be17-9891f9a3e7f4",
   "metadata": {},
   "outputs": [
    {
     "name": "stdout",
     "output_type": "stream",
     "text": [
      "1 --> <class 'int'>\n",
      "4 --> <class 'int'>\n",
      "3 --> <class 'int'>\n",
      "moon --> <class 'str'>\n",
      "light --> <class 'str'>\n",
      "calm --> <class 'str'>\n",
      "2.0 --> <class 'float'>\n",
      "11.52 --> <class 'float'>\n",
      "ATGC --> <class 'str'>\n",
      "True --> <class 'bool'>\n"
     ]
    }
   ],
   "source": [
    "a = [1,4,3,\"moon\",\"light\",\"calm\",2.0,11.52,\"ATGC\",True]\n",
    "for i in a:\n",
    "    print(i,\"-->\",(type(i)))"
   ]
  },
  {
   "cell_type": "markdown",
   "id": "2375c6df-39f2-4a19-8db7-196711a482ea",
   "metadata": {},
   "source": [
    "Q-6. Create a list containing 25 int type data. Using for loop and if-else condition print if the element is\n",
    "divisible by 3 or not."
   ]
  },
  {
   "cell_type": "code",
   "execution_count": 10,
   "id": "f524a22d-ac7b-4f20-bbb8-534a63cf8a01",
   "metadata": {},
   "outputs": [
    {
     "name": "stdout",
     "output_type": "stream",
     "text": [
      "1  is not divisible by 3\n",
      "2  is not divisible by 3\n",
      "3 is divisible by 3\n",
      "4  is not divisible by 3\n",
      "5  is not divisible by 3\n",
      "6 is divisible by 3\n",
      "7  is not divisible by 3\n",
      "8  is not divisible by 3\n",
      "9 is divisible by 3\n",
      "10  is not divisible by 3\n",
      "11  is not divisible by 3\n",
      "12 is divisible by 3\n",
      "13  is not divisible by 3\n",
      "14  is not divisible by 3\n",
      "15 is divisible by 3\n",
      "16  is not divisible by 3\n",
      "17  is not divisible by 3\n",
      "18 is divisible by 3\n",
      "19  is not divisible by 3\n",
      "20  is not divisible by 3\n",
      "21 is divisible by 3\n",
      "22  is not divisible by 3\n",
      "23  is not divisible by 3\n",
      "24 is divisible by 3\n",
      "25  is not divisible by 3\n"
     ]
    }
   ],
   "source": [
    "a = [1,2,3,4,5,6,7,8,9,10,11,12,13,14,15,16,17,18,19,20,21,22,23,24,25]\n",
    "for i in a:\n",
    "    if i%3 == 0:\n",
    "        print(i,\"is divisible by 3\")\n",
    "    else:\n",
    "        print(i,\" is not divisible by 3\")"
   ]
  },
  {
   "cell_type": "markdown",
   "id": "88405314-1d1f-43c4-840a-e5e0c4de4e95",
   "metadata": {},
   "source": [
    "Q-5. Using a while loop, verify if the number A is purely divisible by number B and if so then how many\n",
    "times it can be divisible."
   ]
  },
  {
   "cell_type": "code",
   "execution_count": 28,
   "id": "4be34348-74c2-4637-a9e7-ca99077c85ab",
   "metadata": {},
   "outputs": [
    {
     "name": "stdin",
     "output_type": "stream",
     "text": [
      "number A:  8\n",
      "number B:  2\n"
     ]
    },
    {
     "name": "stdout",
     "output_type": "stream",
     "text": [
      "3\n"
     ]
    }
   ],
   "source": [
    "a = int(input(\"number A: \"))\n",
    "b = int(input(\"number B: \"))\n",
    "count= 0\n",
    "while a%b==0:\n",
    "    a=a/b\n",
    "    count+=1\n",
    "print(count)"
   ]
  },
  {
   "cell_type": "markdown",
   "id": "18443bc5-c3fd-4bc9-8d8d-7d08646c583d",
   "metadata": {},
   "source": [
    "Q-7. What do you understand about mutable and immutable data types? Give examples for both showing\n",
    "this property."
   ]
  },
  {
   "cell_type": "markdown",
   "id": "bd773108-a8d3-4db1-8d45-5198afa8de4d",
   "metadata": {},
   "source": [
    "1.) Mutable - an object whose internal state can be changed.\n",
    "\n",
    "2.) Immutable - object whose internal state cannot be changed, once it is created."
   ]
  },
  {
   "cell_type": "code",
   "execution_count": 31,
   "id": "bf7e3a0c-fc18-4878-a5ac-43209e77cc5b",
   "metadata": {},
   "outputs": [
    {
     "name": "stdout",
     "output_type": "stream",
     "text": [
      "[1, 2, 3, 4, 5, 'six']\n"
     ]
    },
    {
     "ename": "AttributeError",
     "evalue": "'tuple' object has no attribute 'append'",
     "output_type": "error",
     "traceback": [
      "\u001b[0;31m---------------------------------------------------------------------------\u001b[0m",
      "\u001b[0;31mAttributeError\u001b[0m                            Traceback (most recent call last)",
      "Cell \u001b[0;32mIn[31], line 10\u001b[0m\n\u001b[1;32m      8\u001b[0m a \u001b[38;5;241m=\u001b[39m (\u001b[38;5;241m1\u001b[39m,\u001b[38;5;241m2\u001b[39m,\u001b[38;5;241m3\u001b[39m,\u001b[38;5;241m4\u001b[39m,\u001b[38;5;241m5\u001b[39m)\n\u001b[1;32m      9\u001b[0m b \u001b[38;5;241m=\u001b[39m \u001b[38;5;124m\"\u001b[39m\u001b[38;5;124msix\u001b[39m\u001b[38;5;124m\"\u001b[39m\n\u001b[0;32m---> 10\u001b[0m \u001b[43ma\u001b[49m\u001b[38;5;241;43m.\u001b[39;49m\u001b[43mappend\u001b[49m(b)\n\u001b[1;32m     11\u001b[0m \u001b[38;5;28mprint\u001b[39m(a)\n",
      "\u001b[0;31mAttributeError\u001b[0m: 'tuple' object has no attribute 'append'"
     ]
    }
   ],
   "source": [
    "#mutable\n",
    "a = [1,2,3,4,5]\n",
    "b = \"six\"\n",
    "a.append(b)\n",
    "print(a)\n",
    "\n",
    "#immutable\n",
    "a = (1,2,3,4,5)\n",
    "b = \"six\"\n",
    "a.append(b)\n",
    "print(a)"
   ]
  },
  {
   "cell_type": "code",
   "execution_count": null,
   "id": "9966d825-b844-4ac7-82cb-2babe3401531",
   "metadata": {},
   "outputs": [],
   "source": []
  }
 ],
 "metadata": {
  "kernelspec": {
   "display_name": "Python 3 (ipykernel)",
   "language": "python",
   "name": "python3"
  },
  "language_info": {
   "codemirror_mode": {
    "name": "ipython",
    "version": 3
   },
   "file_extension": ".py",
   "mimetype": "text/x-python",
   "name": "python",
   "nbconvert_exporter": "python",
   "pygments_lexer": "ipython3",
   "version": "3.10.8"
  }
 },
 "nbformat": 4,
 "nbformat_minor": 5
}
