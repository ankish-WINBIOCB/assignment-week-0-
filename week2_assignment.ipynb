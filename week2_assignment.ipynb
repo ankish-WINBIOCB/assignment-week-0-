{
 "cells": [
  {
   "cell_type": "raw",
   "id": "c1d93034-8ef1-4bef-a7c7-95bf051c41d9",
   "metadata": {},
   "source": [
    "Q1. How do you comment code in Python? What are the different types of comments?"
   ]
  },
  {
   "cell_type": "markdown",
   "id": "b92ad59b-68ef-4d03-9637-55da3e0801bb",
   "metadata": {},
   "source": [
    "In Python, you can comment code to add explanatory notes or to temporarily disable certain parts of your program.\n",
    "There are two types of comments in Python - Single line comments and Multi-line comments.\n",
    "\n",
    "1.) single line comments - start the line with a hash symbol (#). Anything after the hash symbol on that line will be considered a comment and will not be executed as code.\n",
    "\n",
    "2.) multi-line comments - Python doesn't have a specific syntax for multi-line comments, but we can use triple quotes (''' or \"\"\") to achieve a similar effect. We can also use the hash symbol (#) to comment out multiple lines individually."
   ]
  },
  {
   "cell_type": "raw",
   "id": "c69d1f81-f954-4958-b87f-dc3aa374cb01",
   "metadata": {},
   "source": [
    "Q2. What are variables in Python? How do you declare and assign values to variables?"
   ]
  },
  {
   "cell_type": "markdown",
   "id": "eb6e23f1-0cf8-4abc-af8d-bb81658e2476",
   "metadata": {},
   "source": [
    "In Python, variables are used to store data values. We can assign different types of values, such as numbers, strings, lists, or even other objects, to variables.\n",
    "\n",
    "For declaring and assigning values to variable-\n",
    "\n",
    "1.) Variable declaration: In Python, you don't need to explicitly declare variables or specify their types.\n",
    "Variables are created on-the-fly when you assign a value to them.\n",
    "\n",
    "2.) Variable assignment: To assign a value to a variable, use the equals sign (=) operator.\n",
    "On the left side of the equals sign, write the variable name, and on the right side, write the value or expression you want to assign."
   ]
  },
  {
   "cell_type": "raw",
   "id": "4aca6602-8647-49aa-8fdf-0253ef7914da",
   "metadata": {},
   "source": [
    "Q3. How do you convert one data type to another in Python?"
   ]
  },
  {
   "cell_type": "markdown",
   "id": "259cceb5-656d-45ce-a15e-99a0f865c57e",
   "metadata": {},
   "source": [
    "We can convert one data type to another by using type conversion functions or methods."
   ]
  },
  {
   "cell_type": "raw",
   "id": "e25d20c6-fc7e-401d-8932-d9f45346b46e",
   "metadata": {},
   "source": [
    "Q4. How do you write and execute a Python script from the command line?"
   ]
  },
  {
   "cell_type": "markdown",
   "id": "825ccadb-e53b-456f-aa13-b62f678490bd",
   "metadata": {},
   "source": [
    "Open a text editor and create new file. Save file with a .py extension. For example, file.py.\n",
    "\n",
    "Write your Python code in the file. For example, let's create a simple script that prints \"Hello, World!\"\n",
    "\n",
    "Save the file after writing your code.\n",
    "\n",
    "Open the terminal on your system.\n",
    "\n",
    "Navigate to the directory where you saved the Python script using the cd command. For example, if the script is saved on the desktop\n",
    "\n",
    "Once you are in the correct directory, you can execute the Python script by entering the following command: python file.py\n",
    "\n",
    "Press Enter to execute the command. The Python script will run, and the output will be displayed in the terminal: Hello, World!\n"
   ]
  },
  {
   "cell_type": "raw",
   "id": "4e4d0e2a-6ce2-4ca5-8d39-9171db8247e8",
   "metadata": {},
   "source": [
    "Q5. Given a list my_list = [1, 2, 3, 4, 5], write the code to slice the list and obtain the sub-list [2, 3]."
   ]
  },
  {
   "cell_type": "code",
   "execution_count": 1,
   "id": "8a277c58-79e5-4a01-9da9-dedd05626642",
   "metadata": {},
   "outputs": [
    {
     "name": "stdout",
     "output_type": "stream",
     "text": [
      "[2, 3]\n"
     ]
    }
   ],
   "source": [
    "my_list = [1,2,3,4,5]\n",
    "print(my_list[1:3])"
   ]
  },
  {
   "cell_type": "raw",
   "id": "48276f4a-9155-4d57-84a6-4f137d1673df",
   "metadata": {},
   "source": [
    "Q6. What is a complex number in mathematics, and how is it represented in Python?"
   ]
  },
  {
   "cell_type": "markdown",
   "id": "827ab125-1f0a-4100-a78e-9b85dd04eaf1",
   "metadata": {},
   "source": [
    "In mathematics, a complex number is a number that comprises both a real part and an imaginary part.\n",
    "It is written in the form a + bi, where a represents the real part, b represents the imaginary part, and i represents the imaginary unit.\n",
    "\n",
    "In Python, complex numbers are represented using the complex data type.\n",
    "The imaginary part is denoted by appending of the letter j to the numeric value."
   ]
  },
  {
   "cell_type": "raw",
   "id": "525c0ce2-6fae-42ed-a9e5-d77bd619f665",
   "metadata": {},
   "source": [
    "Q7. What is the correct way to declare a variable named age and assign the value 25 to it?"
   ]
  },
  {
   "cell_type": "code",
   "execution_count": 2,
   "id": "2e41a219-6932-438a-a63e-8c06586af78c",
   "metadata": {},
   "outputs": [
    {
     "name": "stdout",
     "output_type": "stream",
     "text": [
      "25\n"
     ]
    }
   ],
   "source": [
    "age = 25\n",
    "print(age)"
   ]
  },
  {
   "cell_type": "markdown",
   "id": "adedcc0b-90ca-42f6-8feb-03c4bf4a9aed",
   "metadata": {},
   "source": [
    "This statement declares a variable named age and assigns the value 25 to it. The variable age now holds the value 25 and can be used in subsequent code."
   ]
  },
  {
   "cell_type": "raw",
   "id": "35f2cea0-4ce7-46e7-800b-981cb7c1e3e9",
   "metadata": {},
   "source": [
    "Q8. Declare a variable named price and assign the value 9.99 to it. What data type does this variable\n",
    "belong to?"
   ]
  },
  {
   "cell_type": "code",
   "execution_count": 4,
   "id": "cc2fbc01-4821-44a4-bdc7-2ad0d31aa39e",
   "metadata": {},
   "outputs": [
    {
     "name": "stdout",
     "output_type": "stream",
     "text": [
      "variable belong to --> <class 'float'>\n"
     ]
    }
   ],
   "source": [
    "price = 9.99\n",
    "print(\"variable belong to\",\"-->\",type(price))"
   ]
  },
  {
   "cell_type": "raw",
   "id": "a13d0cd6-f954-45b1-9f02-85d913aee2fa",
   "metadata": {},
   "source": [
    "Q9. Create a variable named name and assign your full name to it as a string. How would you print the\n",
    "value of this variable?"
   ]
  },
  {
   "cell_type": "code",
   "execution_count": 6,
   "id": "177d80a4-abca-488c-943a-75ecbbd8b4ac",
   "metadata": {},
   "outputs": [
    {
     "name": "stdout",
     "output_type": "stream",
     "text": [
      "ankish arya\n"
     ]
    }
   ],
   "source": [
    "name = \"ankish arya\"\n",
    "print(name)"
   ]
  },
  {
   "cell_type": "markdown",
   "id": "4a28b244-1828-4ea1-b74f-622f4939e836",
   "metadata": {},
   "source": [
    "To print the value of the name variable, you can use the print() function."
   ]
  },
  {
   "cell_type": "raw",
   "id": "bf2d836f-18ce-4b74-9afa-2eeed0ab8556",
   "metadata": {},
   "source": [
    "Q10. Given the string \"Hello, World!\", extract the substring \"World\"."
   ]
  },
  {
   "cell_type": "code",
   "execution_count": null,
   "id": "65bff417-d05a-4288-974d-6c2d672cade0",
   "metadata": {},
   "outputs": [
    {
     "name": "stdout",
     "output_type": "stream",
     "text": [
      "World\n"
     ]
    }
   ],
   "source": [
    "str = \"Hello, World!\"\n",
    "print(str[7:12])"
   ]
  },
  {
   "cell_type": "raw",
   "id": "1f5172af-8c61-4fb5-8f8a-1a15ddff4911",
   "metadata": {},
   "source": [
    "Q11. Create a variable named \"is_student\" and assign it a boolean value indicating whether you are\n",
    "currently a student or not."
   ]
  },
  {
   "cell_type": "code",
   "execution_count": 10,
   "id": "1daf5545-f75b-40c0-ade3-72c8bad82e9a",
   "metadata": {},
   "outputs": [
    {
     "name": "stdout",
     "output_type": "stream",
     "text": [
      "True , I am a student\n"
     ]
    }
   ],
   "source": [
    "is_student = True\n",
    "print(is_student,\",\",\"I am a student\")"
   ]
  },
  {
   "cell_type": "code",
   "execution_count": null,
   "id": "98b6f471-9b14-44d4-8e1e-e717a90ee293",
   "metadata": {},
   "outputs": [],
   "source": []
  }
 ],
 "metadata": {
  "kernelspec": {
   "display_name": "Python 3 (ipykernel)",
   "language": "python",
   "name": "python3"
  },
  "language_info": {
   "codemirror_mode": {
    "name": "ipython",
    "version": 3
   },
   "file_extension": ".py",
   "mimetype": "text/x-python",
   "name": "python",
   "nbconvert_exporter": "python",
   "pygments_lexer": "ipython3",
   "version": "3.10.8"
  }
 },
 "nbformat": 4,
 "nbformat_minor": 5
}
